{
 "metadata": {
  "name": "001-Introduction-Python"
 },
 "nbformat": 3,
 "nbformat_minor": 0,
 "worksheets": [
  {
   "cells": [
    {
     "cell_type": "markdown",
     "metadata": {},
     "source": [
      "# Introduction to the interactive notebook\n",
      "\n",
      "The platform for this workshop will be files such as this one, which interleave explanation text, code and data visualizations. \n",
      "\n",
      "To execute each cell of the notebook, hit `shift-enter`. "
     ]
    },
    {
     "cell_type": "markdown",
     "metadata": {},
     "source": [
      "That will put you in the next cell. There are two types of input cells, controlled by the menu bar at the top of this page. One type are cells like this one, called \"markdown cells\". They are called that, because they contain a simple, minimalistic form of markup as input to the browser, which then  renders these cells in a useful way. You can find a pretty good markdown cheat-sheet [here](https://github.com/adam-p/markdown-here/wiki/Markdown-Cheatsheet). See - for example - that was a hyper-link to a web page! "
     ]
    },
    {
     "cell_type": "markdown",
     "metadata": {},
     "source": [
      "These cells can also be used to write math-y stuff, using [$\\LaTeX$](http://www.latex-project.org/). To write math that will be rendered in this way, we simply enter a piece of syntactically correct latex between two `$` signs. Like so: $f(x) = \\frac{1}{\\sigma\\sqrt{2\\pi}} e^{\\frac{(x-\\mu)^2}{2\\sigma^2}}$"
     ]
    },
    {
     "cell_type": "markdown",
     "metadata": {},
     "source": [
      "Another type of input cell in the notebook is a code cell. These cells contain code and when they are executed, this piece of code is sent to the python interpter. For example: "
     ]
    },
    {
     "cell_type": "code",
     "collapsed": false,
     "input": [
      "a = 1\n",
      "print a"
     ],
     "language": "python",
     "metadata": {},
     "outputs": [
      {
       "output_type": "stream",
       "stream": "stdout",
       "text": [
        "1\n"
       ]
      }
     ],
     "prompt_number": 1
    },
    {
     "cell_type": "markdown",
     "metadata": {},
     "source": [
      "# A whirlwind introduction to Python\n",
      "\n",
      "## Python is object-oriented \n",
      "\n",
      "In contrast to some other commonly used scripting languages (notably Matlab), Python is an object-oriented language. That means that everything is an object. For example, if you type `a.` and hit the `tab` key, you will see all the attributes of this object: "
     ]
    },
    {
     "cell_type": "code",
     "collapsed": false,
     "input": [
      "print a.real\n",
      "print a.imag"
     ],
     "language": "python",
     "metadata": {},
     "outputs": [
      {
       "output_type": "stream",
       "stream": "stdout",
       "text": [
        "1\n",
        "0\n"
       ]
      }
     ],
     "prompt_number": 2
    },
    {
     "cell_type": "markdown",
     "metadata": {},
     "source": [
      "So far, that looks a lot like the matlab `struct` array. However, an important difference is that some of these attributes can be functions that can be called on/from the object. These are also referred to as 'methods' of the object. For example: "
     ]
    },
    {
     "cell_type": "code",
     "collapsed": false,
     "input": [
      "print a.bit_length"
     ],
     "language": "python",
     "metadata": {},
     "outputs": [
      {
       "output_type": "stream",
       "stream": "stdout",
       "text": [
        "<built-in method bit_length of int object at 0x100310338>\n"
       ]
      }
     ],
     "prompt_number": 3
    },
    {
     "cell_type": "markdown",
     "metadata": {},
     "source": [
      "To tell what this method does, we can get ipython to give us a brief description of this function. This is done by attaching a `?` after it:"
     ]
    },
    {
     "cell_type": "code",
     "collapsed": false,
     "input": [
      "a.bit_length?"
     ],
     "language": "python",
     "metadata": {},
     "outputs": [],
     "prompt_number": 4
    },
    {
     "cell_type": "markdown",
     "metadata": {},
     "source": [
      "This should open a sub-window at the bottom of this window with the 'docstring' of this method. If the author of the function was kind enough to provide useful information in the docstring, we can use this information to know what this method does and what are its expected inputs. This function has no inputs, so to call it, we simply provide the method with empty parentheses:"
     ]
    },
    {
     "cell_type": "code",
     "collapsed": false,
     "input": [
      "a.bit_length()"
     ],
     "language": "python",
     "metadata": {},
     "outputs": [
      {
       "output_type": "pyout",
       "prompt_number": 5,
       "text": [
        "1"
       ]
      }
     ],
     "prompt_number": 5
    },
    {
     "cell_type": "markdown",
     "metadata": {},
     "source": [
      "There is a lot more to say about objects and object-orientation (and what it is good for). For now, this will suffice."
     ]
    },
    {
     "cell_type": "markdown",
     "metadata": {},
     "source": [
      "## Python uses a few simple data structures\n",
      "\n",
      "Some of them look deceivingly like structures in other languages. For example, here's a 'list':  "
     ]
    },
    {
     "cell_type": "code",
     "collapsed": false,
     "input": [
      "b = [1,2,3,4]\n",
      "print len(b)"
     ],
     "language": "python",
     "metadata": {},
     "outputs": [
      {
       "output_type": "stream",
       "stream": "stdout",
       "text": [
        "4\n"
       ]
      }
     ],
     "prompt_number": 6
    },
    {
     "cell_type": "markdown",
     "metadata": {},
     "source": [
      "Here's a classic gotcha. Python indexes start at 0:"
     ]
    },
    {
     "cell_type": "code",
     "collapsed": false,
     "input": [
      "print(b[0])"
     ],
     "language": "python",
     "metadata": {},
     "outputs": [
      {
       "output_type": "stream",
       "stream": "stdout",
       "text": [
        "1\n"
       ]
      }
     ],
     "prompt_number": 7
    },
    {
     "cell_type": "markdown",
     "metadata": {},
     "source": [
      "Lists can be changed: "
     ]
    },
    {
     "cell_type": "code",
     "collapsed": false,
     "input": [
      "b[0] = 2\n",
      "print b"
     ],
     "language": "python",
     "metadata": {},
     "outputs": [
      {
       "output_type": "stream",
       "stream": "stdout",
       "text": [
        "[2, 2, 3, 4]\n"
       ]
      }
     ],
     "prompt_number": 8
    },
    {
     "cell_type": "markdown",
     "metadata": {},
     "source": [
      "They have a ton of interesting attributes and methods. Feel free to explore them as you just learned above. Importantly, though they look a lot like a Matlab vector, they are not the Python analogue of that. Wait just a few more cells for that one to show up. "
     ]
    },
    {
     "cell_type": "code",
     "collapsed": false,
     "input": [
      "print b * 2"
     ],
     "language": "python",
     "metadata": {},
     "outputs": [
      {
       "output_type": "stream",
       "stream": "stdout",
       "text": [
        "[2, 2, 3, 4, 2, 2, 3, 4]\n"
       ]
      }
     ],
     "prompt_number": 9
    },
    {
     "cell_type": "code",
     "collapsed": false,
     "input": [
      "print b+1"
     ],
     "language": "python",
     "metadata": {},
     "outputs": [
      {
       "ename": "TypeError",
       "evalue": "can only concatenate list (not \"int\") to list",
       "output_type": "pyerr",
       "traceback": [
        "\u001b[0;31m---------------------------------------------------------------------------\u001b[0m\n\u001b[0;31mTypeError\u001b[0m                                 Traceback (most recent call last)",
        "\u001b[0;32m<ipython-input-10-5bd19596e089>\u001b[0m in \u001b[0;36m<module>\u001b[0;34m()\u001b[0m\n\u001b[0;32m----> 1\u001b[0;31m \u001b[0;32mprint\u001b[0m \u001b[0mb\u001b[0m\u001b[0;34m+\u001b[0m\u001b[0;36m1\u001b[0m\u001b[0;34m\u001b[0m\u001b[0m\n\u001b[0m",
        "\u001b[0;31mTypeError\u001b[0m: can only concatenate list (not \"int\") to list"
       ]
      }
     ],
     "prompt_number": 10
    },
    {
     "cell_type": "code",
     "collapsed": false,
     "input": [
      "print b + b "
     ],
     "language": "python",
     "metadata": {},
     "outputs": [
      {
       "output_type": "stream",
       "stream": "stdout",
       "text": [
        "[2, 2, 3, 4, 2, 2, 3, 4]\n"
       ]
      }
     ],
     "prompt_number": 11
    },
    {
     "cell_type": "markdown",
     "metadata": {},
     "source": [
      "'tuples' are very similar to lists: "
     ]
    },
    {
     "cell_type": "code",
     "collapsed": false,
     "input": [
      "c = (1,2,3,4)\n",
      "print c[0]"
     ],
     "language": "python",
     "metadata": {},
     "outputs": [
      {
       "output_type": "stream",
       "stream": "stdout",
       "text": [
        "1\n"
       ]
      }
     ],
     "prompt_number": 12
    },
    {
     "cell_type": "markdown",
     "metadata": {},
     "source": [
      "In contrast to lists, they are immutable: "
     ]
    },
    {
     "cell_type": "code",
     "collapsed": false,
     "input": [
      "c[0] = 2"
     ],
     "language": "python",
     "metadata": {},
     "outputs": [
      {
       "ename": "TypeError",
       "evalue": "'tuple' object does not support item assignment",
       "output_type": "pyerr",
       "traceback": [
        "\u001b[0;31m---------------------------------------------------------------------------\u001b[0m\n\u001b[0;31mTypeError\u001b[0m                                 Traceback (most recent call last)",
        "\u001b[0;32m<ipython-input-13-5673658116c7>\u001b[0m in \u001b[0;36m<module>\u001b[0;34m()\u001b[0m\n\u001b[0;32m----> 1\u001b[0;31m \u001b[0mc\u001b[0m\u001b[0;34m[\u001b[0m\u001b[0;36m0\u001b[0m\u001b[0;34m]\u001b[0m \u001b[0;34m=\u001b[0m \u001b[0;36m2\u001b[0m\u001b[0;34m\u001b[0m\u001b[0m\n\u001b[0m",
        "\u001b[0;31mTypeError\u001b[0m: 'tuple' object does not support item assignment"
       ]
      }
     ],
     "prompt_number": 13
    },
    {
     "cell_type": "markdown",
     "metadata": {},
     "source": [
      "And they are also not analogous to Matlab vectors: "
     ]
    },
    {
     "cell_type": "code",
     "collapsed": false,
     "input": [
      "print c + c"
     ],
     "language": "python",
     "metadata": {},
     "outputs": [
      {
       "output_type": "stream",
       "stream": "stdout",
       "text": [
        "(1, 2, 3, 4, 1, 2, 3, 4)\n"
       ]
      }
     ],
     "prompt_number": 14
    },
    {
     "cell_type": "markdown",
     "metadata": {},
     "source": [
      "So far, looks kinda useless. It'll become more interesting in just a minute, after we introduce 'dictionaries', or as they are affectionately known 'dicts':"
     ]
    },
    {
     "cell_type": "code",
     "collapsed": false,
     "input": [
      "d = {'key_the_first':1000.0, 'key_the_second':'woot!', 10:1 , (10,11):12}"
     ],
     "language": "python",
     "metadata": {},
     "outputs": [],
     "prompt_number": 15
    },
    {
     "cell_type": "markdown",
     "metadata": {},
     "source": [
      "This data structure holds key-value pairs, such that when you refer to one, you can get the other: "
     ]
    },
    {
     "cell_type": "code",
     "collapsed": false,
     "input": [
      "print d['key_the_first']"
     ],
     "language": "python",
     "metadata": {},
     "outputs": [
      {
       "output_type": "stream",
       "stream": "stdout",
       "text": [
        "1000.0\n"
       ]
      }
     ],
     "prompt_number": 16
    },
    {
     "cell_type": "code",
     "collapsed": false,
     "input": [
      "print d[10]"
     ],
     "language": "python",
     "metadata": {},
     "outputs": [
      {
       "output_type": "stream",
       "stream": "stdout",
       "text": [
        "1\n"
       ]
      }
     ],
     "prompt_number": 17
    },
    {
     "cell_type": "markdown",
     "metadata": {},
     "source": [
      "Note that while lists cannot be keys to a dict, tuples can:"
     ]
    },
    {
     "cell_type": "code",
     "collapsed": false,
     "input": [
      "print d[(10,11)]"
     ],
     "language": "python",
     "metadata": {},
     "outputs": [
      {
       "output_type": "stream",
       "stream": "stdout",
       "text": [
        "12\n"
       ]
      }
     ],
     "prompt_number": 18
    },
    {
     "cell_type": "markdown",
     "metadata": {},
     "source": [
      "In CS-speak, a thing such as a dict is sometimes referred to as a hash-table and is considered a very useful thing to have. For example, think what you would have to do in order to count the frequency of appearance of certain words in a big text file."
     ]
    },
    {
     "cell_type": "markdown",
     "metadata": {},
     "source": [
      "## Python uses a few simple control structures\n",
      "\n",
      "As in other languages you might know, there are `if`, `else`, `elif` (instead of `elseif`), `for` and `while` control statements. There are a few interesting idiosyncracies. First of all, if you have something that has several components, you can probably just loop over it, using the `for` loop: "
     ]
    },
    {
     "cell_type": "code",
     "collapsed": false,
     "input": [
      "for x in b:\n",
      "    print x"
     ],
     "language": "python",
     "metadata": {},
     "outputs": [
      {
       "output_type": "stream",
       "stream": "stdout",
       "text": [
        "2\n",
        "2\n",
        "3\n",
        "4\n"
       ]
      }
     ],
     "prompt_number": 19
    },
    {
     "cell_type": "markdown",
     "metadata": {},
     "source": [
      "Second, you might notice that there's no explicit delimiter to that for loop. How does python know where it started and where it ended? The answer is that the indentation signals that. In contrast to other languages, indentation in Python is not only a stylistic preference, but a syntactical requirement. That is, if you do not indent the contents of a control block, you will get an error: "
     ]
    },
    {
     "cell_type": "code",
     "collapsed": false,
     "input": [
      "for x in b: \n",
      "print x"
     ],
     "language": "python",
     "metadata": {},
     "outputs": [
      {
       "ename": "IndentationError",
       "evalue": "expected an indented block (<ipython-input-20-b651ccce9731>, line 2)",
       "output_type": "pyerr",
       "traceback": [
        "\u001b[0;36m  File \u001b[0;32m\"<ipython-input-20-b651ccce9731>\"\u001b[0;36m, line \u001b[0;32m2\u001b[0m\n\u001b[0;31m    print x\u001b[0m\n\u001b[0m        ^\u001b[0m\n\u001b[0;31mIndentationError\u001b[0m\u001b[0;31m:\u001b[0m expected an indented block\n"
       ]
      }
     ],
     "prompt_number": 20
    },
    {
     "cell_type": "markdown",
     "metadata": {},
     "source": [
      "This level of stickler-ish insistence on such things as where the white-space appears have made people call it a \"bondage and discipline\" language. But maybe that's your thing? \n",
      "\n",
      "Obviously, we can nest several different control structures in each other:"
     ]
    },
    {
     "cell_type": "code",
     "collapsed": false,
     "input": [
      "for lookfor in range(10):\n",
      "    if lookfor in b:\n",
      "        print 'I think we have a %s in b'%lookfor"
     ],
     "language": "python",
     "metadata": {},
     "outputs": [
      {
       "output_type": "stream",
       "stream": "stdout",
       "text": [
        "I think we have a 2 in b\n",
        "I think we have a 3 in b\n",
        "I think we have a 4 in b\n"
       ]
      }
     ],
     "prompt_number": 21
    },
    {
     "cell_type": "markdown",
     "metadata": {},
     "source": [
      "Also demonstrating:\n",
      "\n",
      "- Use of `range`\n",
      "- Different uses of the builtin `in` \n",
      "- String comprehenrsion "
     ]
    },
    {
     "cell_type": "markdown",
     "metadata": {},
     "source": [
      "## Python gives users control of their namespace\n",
      "\n",
      "The idea here is that apart from very few built-in constructs and types, when you start a python interperter, it knows very little. To allow it to know more, you need to assign variables (which we did above), you need to load things from files (which we'll see later), or you need to import modules that contain more objects, functions, etc. For example, let's import a favorite module of mine, the `os` module"
     ]
    },
    {
     "cell_type": "code",
     "collapsed": false,
     "input": [
      "import os"
     ],
     "language": "python",
     "metadata": {},
     "outputs": [],
     "prompt_number": 22
    },
    {
     "cell_type": "markdown",
     "metadata": {},
     "source": [
      "`import`ing this name into our name-space now makes a lot of other names available through it. Try to type `os.` and tab-completing on that. And some of the names under that have additional names under them. For example: "
     ]
    },
    {
     "cell_type": "code",
     "collapsed": false,
     "input": [
      "curdir = os.path.curdir\n",
      "listdir = os.listdir(curdir)\n",
      "print os.path.join(curdir, listdir[1])"
     ],
     "language": "python",
     "metadata": {},
     "outputs": [
      {
       "output_type": "stream",
       "stream": "stdout",
       "text": [
        "./001-Introduction-Python.ipynb\n"
       ]
      }
     ],
     "prompt_number": 23
    },
    {
     "cell_type": "markdown",
     "metadata": {},
     "source": [
      "- Example: count words in a file.\n",
      "- Read the paradigm file and plot it and what-not\n",
      "- Where do I get help?\n"
     ]
    },
    {
     "cell_type": "code",
     "collapsed": false,
     "input": [],
     "language": "python",
     "metadata": {},
     "outputs": [],
     "prompt_number": "*"
    },
    {
     "cell_type": "code",
     "collapsed": false,
     "input": [
      "def word_count(file_name): \n",
      "    \"\"\" \n",
      "    \n",
      "    \"\"\""
     ],
     "language": "python",
     "metadata": {},
     "outputs": [],
     "prompt_number": "*"
    },
    {
     "cell_type": "code",
     "collapsed": false,
     "input": [
      "def plot_paradigm(file_name):\n",
      "    \"\"\" \n",
      "    \"\"\"\n"
     ],
     "language": "python",
     "metadata": {},
     "outputs": [],
     "prompt_number": "*"
    },
    {
     "cell_type": "code",
     "collapsed": false,
     "input": [
      "ip = get_ipython()"
     ],
     "language": "python",
     "metadata": {},
     "outputs": [],
     "prompt_number": "*"
    },
    {
     "cell_type": "code",
     "collapsed": false,
     "input": [
      "ip.__dict__\n"
     ],
     "language": "python",
     "metadata": {},
     "outputs": [],
     "prompt_number": "*"
    },
    {
     "cell_type": "code",
     "collapsed": false,
     "input": [],
     "language": "python",
     "metadata": {},
     "outputs": [],
     "prompt_number": "*"
    }
   ],
   "metadata": {}
  }
 ]
}